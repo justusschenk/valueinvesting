{
 "cells": [
  {
   "cell_type": "code",
   "execution_count": 22,
   "metadata": {},
   "outputs": [
    {
     "name": "stdout",
     "output_type": "stream",
     "text": [
      "            growth  ESG     AI  climate\n",
      "date                                   \n",
      "2024-08-31    10.0  1.0   82.0      4.0\n",
      "2024-09-30    10.0  1.0   85.0      5.0\n",
      "2024-10-31    10.0  1.0   93.0      5.0\n",
      "2024-11-30    10.0  1.0   96.0      5.0\n",
      "2024-12-31    10.0  1.0  100.0      5.0\n"
     ]
    },
    {
     "name": "stderr",
     "output_type": "stream",
     "text": [
      "/var/folders/47/ztkg05vx2hbdgfnfn0bh1y3w0000gn/T/ipykernel_89311/1081108024.py:19: FutureWarning: 'M' is deprecated and will be removed in a future version, please use 'ME' instead.\n",
      "  trends_monthly = trends.resample('M').mean()\n"
     ]
    }
   ],
   "source": [
    "from pytrends.request import TrendReq\n",
    "import pandas as pd\n",
    "pytrends = TrendReq(hl='en-US', tz=360)\n",
    "\n",
    "# Choose your terms\n",
    "keywords = [\"growth\", \"ESG\", \"AI\", \"climate\"]\n",
    "\n",
    "# Build payload (monthly, over long time span)\n",
    "pytrends.build_payload(kw_list=keywords, timeframe='2004-01-01 2024-12-31')\n",
    "\n",
    "# Retrieve interest over time\n",
    "trends = pytrends.interest_over_time()\n",
    "\n",
    "# Drop non-data column\n",
    "if 'isPartial' in trends.columns:\n",
    "    trends = trends.drop(columns=['isPartial'])\n",
    "\n",
    "# Optional: resample to monthly mean if needed\n",
    "trends_monthly = trends.resample('M').mean()\n",
    "\n",
    "\n",
    "# Preview\n",
    "print(trends_monthly.tail())"
   ]
  },
  {
   "cell_type": "code",
   "execution_count": 23,
   "metadata": {},
   "outputs": [
    {
     "name": "stdout",
     "output_type": "stream",
     "text": [
      "                                 OLS Regression Results                                \n",
      "=======================================================================================\n",
      "Dep. Variable:      long_short_return   R-squared (uncentered):                   0.028\n",
      "Model:                            OLS   Adj. R-squared (uncentered):              0.011\n",
      "Method:                 Least Squares   F-statistic:                              1.643\n",
      "Date:                Fri, 27 Jun 2025   Prob (F-statistic):                       0.181\n",
      "Time:                        09:35:10   Log-Likelihood:                          455.02\n",
      "No. Observations:                 174   AIC:                                     -904.0\n",
      "Df Residuals:                     171   BIC:                                     -894.6\n",
      "Df Model:                           3                                                  \n",
      "Covariance Type:            nonrobust                                                  \n",
      "==============================================================================\n",
      "                 coef    std err          t      P>|t|      [0.025      0.975]\n",
      "------------------------------------------------------------------------------\n",
      "growth         0.0029      0.001      2.087      0.038       0.000       0.006\n",
      "AI            -0.0003      0.000     -0.947      0.345      -0.001       0.000\n",
      "ESG                 0          0        nan        nan           0           0\n",
      "climate       -0.0040      0.002     -2.134      0.034      -0.008      -0.000\n",
      "==============================================================================\n",
      "Omnibus:                       15.782   Durbin-Watson:                   1.931\n",
      "Prob(Omnibus):                  0.000   Jarque-Bera (JB):               21.313\n",
      "Skew:                           0.564   Prob(JB):                     2.35e-05\n",
      "Kurtosis:                       4.291   Cond. No.                          inf\n",
      "==============================================================================\n",
      "\n",
      "Notes:\n",
      "[1] R² is computed without centering (uncentered) since the model does not contain a constant.\n",
      "[2] Standard Errors assume that the covariance matrix of the errors is correctly specified.\n",
      "[3] The smallest eigenvalue is      0. This might indicate that there are\n",
      "strong multicollinearity problems or that the design matrix is singular.\n"
     ]
    },
    {
     "name": "stderr",
     "output_type": "stream",
     "text": [
      "/Users/justusschenk/Bachelorarbeit/.venv/lib/python3.10/site-packages/statsmodels/regression/linear_model.py:1966: RuntimeWarning: divide by zero encountered in scalar divide\n",
      "  return np.sqrt(eigvals[0]/eigvals[-1])\n"
     ]
    }
   ],
   "source": [
    "returns_df = pd.read_csv('Data/long_short_returns_clean.csv', index_col='date')#\n",
    "returns = returns_df['long_short_return']\n",
    "returns.index = pd.to_datetime(returns.index)\n",
    "returns.index = returns.index.to_period('M').to_timestamp('M')\n",
    "\n",
    "df = pd.concat([trends_monthly, returns], axis=1, join='inner')\n",
    "\n",
    "import statsmodels.api as sm\n",
    "\n",
    "X = df[['growth', 'AI', 'ESG', 'climate']]\n",
    "X_sm = sm.add_constant(X)\n",
    "y = df['long_short_return']\n",
    "\n",
    "model = sm.OLS(y, X)\n",
    "res = model.fit()\n",
    "print(res.summary())"
   ]
  }
 ],
 "metadata": {
  "kernelspec": {
   "display_name": "Python (myenv)",
   "language": "python",
   "name": "myenv"
  },
  "language_info": {
   "codemirror_mode": {
    "name": "ipython",
    "version": 3
   },
   "file_extension": ".py",
   "mimetype": "text/x-python",
   "name": "python",
   "nbconvert_exporter": "python",
   "pygments_lexer": "ipython3",
   "version": "3.10.13"
  },
  "orig_nbformat": 4,
  "vscode": {
   "interpreter": {
    "hash": "aee8b7b246df8f9039afb4144a1f6fd8d2ca17a180786b69acc140d282b71a49"
   }
  }
 },
 "nbformat": 4,
 "nbformat_minor": 2
}
