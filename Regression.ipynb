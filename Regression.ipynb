{
 "cells": [
  {
   "cell_type": "code",
   "execution_count": 22,
   "metadata": {},
   "outputs": [],
   "source": [
    "import pandas as pd\n",
    "import numpy as np\n",
    "import matplotlib.pyplot as plt\n",
    "import statsmodels.api as sm"
   ]
  },
  {
   "cell_type": "code",
   "execution_count": null,
   "metadata": {},
   "outputs": [],
   "source": [
    "long_short_returns = pd.read_pickle(\"long_short_returns.pkl\")\n",
    "ls_returns = pd.DataFrame(long_short_returns)\n",
    "interest_rates = pd.read_csv(\"FEDFUNDS.csv\", parse_dates=['observation_date'], index_col='observation_date')\n",
    "gdp = pd.read_csv(\"GDPC1.csv\", parse_dates=['observation_date'], index_col='observation_date')\n",
    "vix = pd.read_csv(\"VIXCLS.csv\", parse_dates=['observation_date'], index_col='observation_date')\n",
    "\n",
    "interest_rates.rename(columns={\"FEDFUNDS\": \"Interest_Rate\"}, inplace=True)\n",
    "gdp.rename(columns={\"GDPC1\": \"GDP\"}, inplace=True)\n",
    "vix.rename(columns={\"VIXCLS\": \"VIX\"}, inplace=True)\n",
    "\n",
    "macros = pd.concat([interest_rates, gdp, vix], axis=1).dropna()\n",
    "ls_returns.index = ls_returns.index.to_timestamp()\n",
    "ls_returns.index = pd.to_datetime(ls_returns.index)\n",
    "#macros.index = macros.index.to_timestamp()\n",
    "ls_returns = ls_returns.loc[ls_returns.index.intersection(macros.index)]\n",
    "macros = macros.loc[macros.index.intersection(ls_returns.index)]\n",
    "ls_returns\n"
   ]
  },
  {
   "cell_type": "code",
   "execution_count": 54,
   "metadata": {},
   "outputs": [
    {
     "name": "stdout",
     "output_type": "stream",
     "text": [
      "                            OLS Regression Results                            \n",
      "==============================================================================\n",
      "Dep. Variable:         long_short_ret   R-squared:                       0.117\n",
      "Model:                            OLS   Adj. R-squared:                  0.069\n",
      "Method:                 Least Squares   F-statistic:                     2.440\n",
      "Date:                Fri, 23 May 2025   Prob (F-statistic):             0.0740\n",
      "Time:                        11:53:18   Log-Likelihood:                 128.02\n",
      "No. Observations:                  59   AIC:                            -248.0\n",
      "Df Residuals:                      55   BIC:                            -239.7\n",
      "Df Model:                           3                                         \n",
      "Covariance Type:            nonrobust                                         \n",
      "=================================================================================\n",
      "                    coef    std err          t      P>|t|      [0.025      0.975]\n",
      "---------------------------------------------------------------------------------\n",
      "const             0.0571      0.040      1.430      0.158      -0.023       0.137\n",
      "Interest_Rate    -0.0010      0.003     -0.363      0.718      -0.007       0.005\n",
      "GDP           -1.649e-06   2.25e-06     -0.734      0.466   -6.15e-06    2.85e-06\n",
      "VIX              -0.0013      0.001     -2.527      0.014      -0.002      -0.000\n",
      "==============================================================================\n",
      "Omnibus:                        7.933   Durbin-Watson:                   2.020\n",
      "Prob(Omnibus):                  0.019   Jarque-Bera (JB):                7.438\n",
      "Skew:                           0.679   Prob(JB):                       0.0243\n",
      "Kurtosis:                       4.088   Cond. No.                     1.61e+05\n",
      "==============================================================================\n",
      "\n",
      "Notes:\n",
      "[1] Standard Errors assume that the covariance matrix of the errors is correctly specified.\n",
      "[2] The condition number is large, 1.61e+05. This might indicate that there are\n",
      "strong multicollinearity or other numerical problems.\n"
     ]
    }
   ],
   "source": [
    "Y = ls_returns\n",
    "X = macros\n",
    "\n",
    "X = sm.add_constant(X)\n",
    "\n",
    "model = sm.OLS(Y, X).fit()\n",
    "\n",
    "print(model.summary())"
   ]
  }
 ],
 "metadata": {
  "kernelspec": {
   "display_name": "Python (myenv)",
   "language": "python",
   "name": "myenv"
  },
  "language_info": {
   "name": "python",
   "version": "3.10.13"
  },
  "orig_nbformat": 4,
  "vscode": {
   "interpreter": {
    "hash": "b0fa6594d8f4cbf19f97940f81e996739fb7646882a419484c72d19e05852a7e"
   }
  }
 },
 "nbformat": 4,
 "nbformat_minor": 2
}
