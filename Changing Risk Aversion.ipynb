{
 "cells": [
  {
   "cell_type": "code",
   "execution_count": 42,
   "metadata": {},
   "outputs": [
    {
     "name": "stderr",
     "output_type": "stream",
     "text": [
      "/var/folders/47/ztkg05vx2hbdgfnfn0bh1y3w0000gn/T/ipykernel_56786/802782135.py:5: FutureWarning: 'M' is deprecated and will be removed in a future version, please use 'ME' instead.\n",
      "  vix = vix_daily.resample('M').mean()\n",
      "/var/folders/47/ztkg05vx2hbdgfnfn0bh1y3w0000gn/T/ipykernel_56786/802782135.py:11: FutureWarning: 'M' is deprecated and will be removed in a future version, please use 'ME' instead.\n",
      "  credit_spread = credit_spread_daily.resample('M').mean()\n"
     ]
    },
    {
     "data": {
      "text/html": [
       "<div>\n",
       "<style scoped>\n",
       "    .dataframe tbody tr th:only-of-type {\n",
       "        vertical-align: middle;\n",
       "    }\n",
       "\n",
       "    .dataframe tbody tr th {\n",
       "        vertical-align: top;\n",
       "    }\n",
       "\n",
       "    .dataframe thead th {\n",
       "        text-align: right;\n",
       "    }\n",
       "</style>\n",
       "<table border=\"1\" class=\"dataframe\">\n",
       "  <thead>\n",
       "    <tr style=\"text-align: right;\">\n",
       "      <th></th>\n",
       "      <th>long_short_ret</th>\n",
       "      <th>VIX</th>\n",
       "      <th>Credit_Spread</th>\n",
       "    </tr>\n",
       "    <tr>\n",
       "      <th>date</th>\n",
       "      <th></th>\n",
       "      <th></th>\n",
       "      <th></th>\n",
       "    </tr>\n",
       "  </thead>\n",
       "  <tbody>\n",
       "    <tr>\n",
       "      <th>1990-01</th>\n",
       "      <td>0.013768</td>\n",
       "      <td>23.347273</td>\n",
       "      <td>0.017386</td>\n",
       "    </tr>\n",
       "    <tr>\n",
       "      <th>1990-02</th>\n",
       "      <td>-0.008227</td>\n",
       "      <td>23.262632</td>\n",
       "      <td>0.016711</td>\n",
       "    </tr>\n",
       "    <tr>\n",
       "      <th>1990-03</th>\n",
       "      <td>-0.012210</td>\n",
       "      <td>20.062273</td>\n",
       "      <td>0.016182</td>\n",
       "    </tr>\n",
       "    <tr>\n",
       "      <th>1990-04</th>\n",
       "      <td>-0.007258</td>\n",
       "      <td>21.403500</td>\n",
       "      <td>0.015160</td>\n",
       "    </tr>\n",
       "    <tr>\n",
       "      <th>1990-05</th>\n",
       "      <td>-0.034067</td>\n",
       "      <td>18.097727</td>\n",
       "      <td>0.016532</td>\n",
       "    </tr>\n",
       "    <tr>\n",
       "      <th>...</th>\n",
       "      <td>...</td>\n",
       "      <td>...</td>\n",
       "      <td>...</td>\n",
       "    </tr>\n",
       "    <tr>\n",
       "      <th>2018-02</th>\n",
       "      <td>-0.001483</td>\n",
       "      <td>22.464737</td>\n",
       "      <td>0.016500</td>\n",
       "    </tr>\n",
       "    <tr>\n",
       "      <th>2018-03</th>\n",
       "      <td>0.018226</td>\n",
       "      <td>19.023810</td>\n",
       "      <td>0.017976</td>\n",
       "    </tr>\n",
       "    <tr>\n",
       "      <th>2018-04</th>\n",
       "      <td>0.011251</td>\n",
       "      <td>18.267619</td>\n",
       "      <td>0.018000</td>\n",
       "    </tr>\n",
       "    <tr>\n",
       "      <th>2018-05</th>\n",
       "      <td>-0.026924</td>\n",
       "      <td>14.124545</td>\n",
       "      <td>0.018477</td>\n",
       "    </tr>\n",
       "    <tr>\n",
       "      <th>2018-06</th>\n",
       "      <td>-0.008661</td>\n",
       "      <td>13.678095</td>\n",
       "      <td>0.019224</td>\n",
       "    </tr>\n",
       "  </tbody>\n",
       "</table>\n",
       "<p>342 rows × 3 columns</p>\n",
       "</div>"
      ],
      "text/plain": [
       "         long_short_ret        VIX  Credit_Spread\n",
       "date                                             \n",
       "1990-01        0.013768  23.347273       0.017386\n",
       "1990-02       -0.008227  23.262632       0.016711\n",
       "1990-03       -0.012210  20.062273       0.016182\n",
       "1990-04       -0.007258  21.403500       0.015160\n",
       "1990-05       -0.034067  18.097727       0.016532\n",
       "...                 ...        ...            ...\n",
       "2018-02       -0.001483  22.464737       0.016500\n",
       "2018-03        0.018226  19.023810       0.017976\n",
       "2018-04        0.011251  18.267619       0.018000\n",
       "2018-05       -0.026924  14.124545       0.018477\n",
       "2018-06       -0.008661  13.678095       0.019224\n",
       "\n",
       "[342 rows x 3 columns]"
      ]
     },
     "execution_count": 42,
     "metadata": {},
     "output_type": "execute_result"
    }
   ],
   "source": [
    "import pandas as pd\n",
    "vix_daily = pd.read_csv(\"Data/VIXCLS-2.csv\", parse_dates=[\"observation_date\"], index_col=\"observation_date\")\n",
    "vix_daily.rename(columns={\"observation_date\": \"date\"}, inplace=True)\n",
    "vix_daily.rename(columns={\"VIXCLS\": \"VIX\"}, inplace=True)\n",
    "vix = vix_daily.resample('M').mean()\n",
    "vix.index = vix.index.to_period('M')\n",
    "vix.index.name =\"date\"\n",
    "returns = pd.read_pickle(\"Data/long_short_returns.pkl\")\n",
    "\n",
    "credit_spread_daily = pd.read_csv(\"Data/BAA10Y.csv\", parse_dates=['observation_date'], index_col='observation_date')\n",
    "credit_spread = credit_spread_daily.resample('M').mean()\n",
    "credit_spread.index = credit_spread.index.to_period('M')\n",
    "credit_spread = credit_spread/100\n",
    "credit_spread.index.name = 'date'\n",
    "credit_spread.rename(columns={\"BAA10Y\": \"Credit_Spread\"}, inplace=True)\n",
    "\n",
    "\n",
    "df = pd.concat([returns, vix, credit_spread], axis=1, join=\"inner\")\n",
    "df"
   ]
  },
  {
   "cell_type": "code",
   "execution_count": 44,
   "metadata": {},
   "outputs": [
    {
     "name": "stdout",
     "output_type": "stream",
     "text": [
      "                            OLS Regression Results                            \n",
      "==============================================================================\n",
      "Dep. Variable:         long_short_ret   R-squared:                       0.842\n",
      "Model:                            OLS   Adj. R-squared:                  0.840\n",
      "Method:                 Least Squares   F-statistic:                     790.7\n",
      "Date:                Fri, 20 Jun 2025   Prob (F-statistic):          8.25e-170\n",
      "Time:                        18:07:04   Log-Likelihood:                 1052.1\n",
      "No. Observations:                 342   AIC:                            -2094.\n",
      "Df Residuals:                     337   BIC:                            -2075.\n",
      "Df Model:                           4                                         \n",
      "Covariance Type:                  HC3                                         \n",
      "===============================================================================\n",
      "                  coef    std err          z      P>|z|      [0.025      0.975]\n",
      "-------------------------------------------------------------------------------\n",
      "const           0.0038      0.001      2.969      0.003       0.001       0.006\n",
      "high_vix       -0.0024      0.001     -1.838      0.066      -0.005       0.000\n",
      "value_x_vix     0.7295      0.068     10.651      0.000       0.595       0.864\n",
      "high_cs        -0.0018      0.001     -1.431      0.152      -0.004       0.001\n",
      "value_x_cs      0.3515      0.076      4.645      0.000       0.203       0.500\n",
      "==============================================================================\n",
      "Omnibus:                       42.730   Durbin-Watson:                   1.729\n",
      "Prob(Omnibus):                  0.000   Jarque-Bera (JB):              107.776\n",
      "Skew:                           0.601   Prob(JB):                     3.95e-24\n",
      "Kurtosis:                       5.474   Cond. No.                         126.\n",
      "==============================================================================\n",
      "\n",
      "Notes:\n",
      "[1] Standard Errors are heteroscedasticity robust (HC3)\n"
     ]
    }
   ],
   "source": [
    "import pandas as pd\n",
    "import statsmodels.api as sm\n",
    "\n",
    "\n",
    "# Define a high risk aversion dummy based on VIX (e.g., above median)\n",
    "df['high_vix'] = (df['VIX'] > df['VIX'].median()).astype(int)\n",
    "\n",
    "# Interaction term\n",
    "df['value_x_vix'] = df['long_short_ret'] * df['high_vix']\n",
    "\n",
    "# High credit spread dummy (above median)\n",
    "df['high_cs'] = (df['Credit_Spread'] > df['Credit_Spread'].median()).astype(int)\n",
    "\n",
    "# Interaction with value premium\n",
    "df['value_x_cs'] = df['long_short_ret'] * df['high_cs']\n",
    "\n",
    "# Regression: value premium on high_vix dummy and interaction\n",
    "#X = sm.add_constant(df[['high_vix', 'value_x_vix']])\n",
    "X = sm.add_constant(df[['high_vix', 'value_x_vix', 'high_cs', 'value_x_cs']])\n",
    "y = df['long_short_ret']\n",
    "\n",
    "model = sm.OLS(y, X).fit(cov_type=\"HC3\")\n",
    "print(model.summary())\n"
   ]
  },
  {
   "cell_type": "code",
   "execution_count": 45,
   "metadata": {},
   "outputs": [
    {
     "name": "stdout",
     "output_type": "stream",
     "text": [
      "Mean Value Premium when VIX is High: 0.0034113631146352017\n",
      "Mean Value Premium when VIX is Low: 0.0035089463359813298\n"
     ]
    }
   ],
   "source": [
    "high_vix_returns = df.loc[df['high_vix'] == 1, 'long_short_ret']\n",
    "low_vix_returns = df.loc[df['high_vix'] == 0, 'long_short_ret']\n",
    "\n",
    "print(\"Mean Value Premium when VIX is High:\", high_vix_returns.mean())\n",
    "print(\"Mean Value Premium when VIX is Low:\", low_vix_returns.mean())\n"
   ]
  },
  {
   "cell_type": "markdown",
   "metadata": {},
   "source": [
    "The average difference in raw returns between just “high VIX” vs. “low VIX” months (ignoring factor levels) is indeed very small (~0.1%).\n",
    "However, the effect of the value premium on returns is much stronger in the high VIX regime.\n",
    "In other words, risk aversion regimes don’t change the baseline returns much directly, but they amplify or dampen how much the value factor translates into actual returns."
   ]
  },
  {
   "cell_type": "code",
   "execution_count": 46,
   "metadata": {},
   "outputs": [
    {
     "data": {
      "image/png": "[encoded data removed]",
      "text/plain": [
       "<Figure size 640x480 with 1 Axes>"
      ]
     },
     "metadata": {},
     "output_type": "display_data"
    }
   ],
   "source": [
    "import numpy as np\n",
    "\n",
    "# Create a grid of value premium factor values\n",
    "vp_vals = np.linspace(df['long_short_ret'].min(), df['long_short_ret'].max(), 100)\n",
    "\n",
    "# Predict returns for low and high VIX (high_vix=0 or 1)\n",
    "low_vix_returns = model.params['const'] + model.params['value_x_vix'] * 0 + model.params['high_vix'] * 0 + model.params['value_x_vix'] * 0 * vp_vals + model.params['high_vix'] * 0\n",
    "high_vix_returns = model.params['const'] + model.params['high_vix'] * 1 + model.params['value_x_vix'] * vp_vals\n",
    "\n",
    "import matplotlib.pyplot as plt\n",
    "plt.plot(vp_vals, low_vix_returns, label='Low VIX regime')\n",
    "plt.plot(vp_vals, high_vix_returns, label='High VIX regime')\n",
    "plt.xlabel('Value Premium (long_short_ret)')\n",
    "plt.ylabel('Predicted Return')\n",
    "plt.legend()\n",
    "plt.show()\n"
   ]
  }
 ],
 "metadata": {
  "kernelspec": {
   "display_name": "Python (myenv)",
   "language": "python",
   "name": "myenv"
  },
  "language_info": {
   "codemirror_mode": {
    "name": "ipython",
    "version": 3
   },
   "file_extension": ".py",
   "mimetype": "text/x-python",
   "name": "python",
   "nbconvert_exporter": "python",
   "pygments_lexer": "ipython3",
   "version": "3.10.13"
  },
  "orig_nbformat": 4
 },
 "nbformat": 4,
 "nbformat_minor": 2
}
