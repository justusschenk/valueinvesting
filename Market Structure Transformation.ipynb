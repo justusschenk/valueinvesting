{
 "cells": [
  {
   "cell_type": "code",
   "execution_count": 37,
   "metadata": {},
   "outputs": [
    {
     "data": {
      "text/html": [
       "<div>\n",
       "<style scoped>\n",
       "    .dataframe tbody tr th:only-of-type {\n",
       "        vertical-align: middle;\n",
       "    }\n",
       "\n",
       "    .dataframe tbody tr th {\n",
       "        vertical-align: top;\n",
       "    }\n",
       "\n",
       "    .dataframe thead th {\n",
       "        text-align: right;\n",
       "    }\n",
       "</style>\n",
       "<table border=\"1\" class=\"dataframe\">\n",
       "  <thead>\n",
       "    <tr style=\"text-align: right;\">\n",
       "      <th>industry</th>\n",
       "      <th>Agriculture, Forestry, and Fishing</th>\n",
       "      <th>Construction</th>\n",
       "      <th>Finance, Insurance, and Real Estate</th>\n",
       "      <th>Manufacturing</th>\n",
       "      <th>Mining</th>\n",
       "      <th>Public Administration</th>\n",
       "      <th>Retail Trade</th>\n",
       "      <th>Services</th>\n",
       "      <th>Technology</th>\n",
       "      <th>Transportation and Public Utilities</th>\n",
       "      <th>Wholesale Trade</th>\n",
       "    </tr>\n",
       "    <tr>\n",
       "      <th>date</th>\n",
       "      <th></th>\n",
       "      <th></th>\n",
       "      <th></th>\n",
       "      <th></th>\n",
       "      <th></th>\n",
       "      <th></th>\n",
       "      <th></th>\n",
       "      <th></th>\n",
       "      <th></th>\n",
       "      <th></th>\n",
       "      <th></th>\n",
       "    </tr>\n",
       "  </thead>\n",
       "  <tbody>\n",
       "    <tr>\n",
       "      <th>1960-01-01</th>\n",
       "      <td>NaN</td>\n",
       "      <td>0.525015</td>\n",
       "      <td>0.206504</td>\n",
       "      <td>0.029450</td>\n",
       "      <td>0.235143</td>\n",
       "      <td>NaN</td>\n",
       "      <td>0.082495</td>\n",
       "      <td>0.346117</td>\n",
       "      <td>0.159953</td>\n",
       "      <td>0.218986</td>\n",
       "      <td>0.376020</td>\n",
       "    </tr>\n",
       "    <tr>\n",
       "      <th>1960-02-01</th>\n",
       "      <td>NaN</td>\n",
       "      <td>0.526143</td>\n",
       "      <td>0.204302</td>\n",
       "      <td>0.029028</td>\n",
       "      <td>0.236229</td>\n",
       "      <td>NaN</td>\n",
       "      <td>0.084197</td>\n",
       "      <td>0.347594</td>\n",
       "      <td>0.156936</td>\n",
       "      <td>0.218528</td>\n",
       "      <td>0.406999</td>\n",
       "    </tr>\n",
       "    <tr>\n",
       "      <th>1960-03-01</th>\n",
       "      <td>NaN</td>\n",
       "      <td>0.523502</td>\n",
       "      <td>0.203902</td>\n",
       "      <td>0.029307</td>\n",
       "      <td>0.235690</td>\n",
       "      <td>NaN</td>\n",
       "      <td>0.085229</td>\n",
       "      <td>0.357539</td>\n",
       "      <td>0.166303</td>\n",
       "      <td>0.222037</td>\n",
       "      <td>0.408856</td>\n",
       "    </tr>\n",
       "    <tr>\n",
       "      <th>1960-04-01</th>\n",
       "      <td>NaN</td>\n",
       "      <td>0.517372</td>\n",
       "      <td>0.203718</td>\n",
       "      <td>0.029585</td>\n",
       "      <td>0.231987</td>\n",
       "      <td>NaN</td>\n",
       "      <td>0.083971</td>\n",
       "      <td>0.356715</td>\n",
       "      <td>0.171305</td>\n",
       "      <td>0.230184</td>\n",
       "      <td>0.425724</td>\n",
       "    </tr>\n",
       "    <tr>\n",
       "      <th>1960-05-01</th>\n",
       "      <td>NaN</td>\n",
       "      <td>0.508150</td>\n",
       "      <td>0.196983</td>\n",
       "      <td>0.028826</td>\n",
       "      <td>0.232880</td>\n",
       "      <td>NaN</td>\n",
       "      <td>0.087137</td>\n",
       "      <td>0.366629</td>\n",
       "      <td>0.169990</td>\n",
       "      <td>0.243415</td>\n",
       "      <td>0.429298</td>\n",
       "    </tr>\n",
       "  </tbody>\n",
       "</table>\n",
       "</div>"
      ],
      "text/plain": [
       "industry    Agriculture, Forestry, and Fishing  Construction  \\\n",
       "date                                                           \n",
       "1960-01-01                                 NaN      0.525015   \n",
       "1960-02-01                                 NaN      0.526143   \n",
       "1960-03-01                                 NaN      0.523502   \n",
       "1960-04-01                                 NaN      0.517372   \n",
       "1960-05-01                                 NaN      0.508150   \n",
       "\n",
       "industry    Finance, Insurance, and Real Estate  Manufacturing    Mining  \\\n",
       "date                                                                       \n",
       "1960-01-01                             0.206504       0.029450  0.235143   \n",
       "1960-02-01                             0.204302       0.029028  0.236229   \n",
       "1960-03-01                             0.203902       0.029307  0.235690   \n",
       "1960-04-01                             0.203718       0.029585  0.231987   \n",
       "1960-05-01                             0.196983       0.028826  0.232880   \n",
       "\n",
       "industry    Public Administration  Retail Trade  Services  Technology  \\\n",
       "date                                                                    \n",
       "1960-01-01                    NaN      0.082495  0.346117    0.159953   \n",
       "1960-02-01                    NaN      0.084197  0.347594    0.156936   \n",
       "1960-03-01                    NaN      0.085229  0.357539    0.166303   \n",
       "1960-04-01                    NaN      0.083971  0.356715    0.171305   \n",
       "1960-05-01                    NaN      0.087137  0.366629    0.169990   \n",
       "\n",
       "industry    Transportation and Public Utilities  Wholesale Trade  \n",
       "date                                                              \n",
       "1960-01-01                             0.218986         0.376020  \n",
       "1960-02-01                             0.218528         0.406999  \n",
       "1960-03-01                             0.222037         0.408856  \n",
       "1960-04-01                             0.230184         0.425724  \n",
       "1960-05-01                             0.243415         0.429298  "
      ]
     },
     "execution_count": 37,
     "metadata": {},
     "output_type": "execute_result"
    }
   ],
   "source": [
    "import pandas as pd\n",
    "\n",
    "returns = pd.read_pickle('Data/long_short_returns.pkl')\n",
    "hhi = pd.read_pickle('Data/HHI.pkl')\n",
    "etf_share = pd.read_pickle('Data/etf_share.pkl')\n",
    "hhi_series = hhi.pivot(index='date', columns='industry', values='HHI')\n",
    "returns = returns.squeeze()\n",
    "mktcap = hhi.pivot(index='date', columns='industry', values='Industry_MktCap')"
   ]
  },
  {
   "cell_type": "code",
   "execution_count": 20,
   "metadata": {},
   "outputs": [
    {
     "data": {
      "text/plain": [
       "date\n",
       "1960-01-01    0.096311\n",
       "1960-02-01    0.096763\n",
       "1960-03-01    0.098573\n",
       "1960-04-01    0.101176\n",
       "1960-05-01    0.102688\n",
       "Name: vw_hhi, dtype: float64"
      ]
     },
     "execution_count": 20,
     "metadata": {},
     "output_type": "execute_result"
    }
   ],
   "source": [
    "weights = mktcap.div(mktcap.sum(axis=1), axis=0)\n",
    "vw_hhi = (hhi_series * weights).sum(axis=1)\n",
    "vw_hhi.name = 'vw_hhi'\n",
    "vw_hhi = vw_hhi.dropna()\n",
    "vw_hhi.head()"
   ]
  },
  {
   "cell_type": "code",
   "execution_count": 22,
   "metadata": {},
   "outputs": [
    {
     "name": "stdout",
     "output_type": "stream",
     "text": [
      "True\n",
      "True\n"
     ]
    }
   ],
   "source": [
    "print(hhi_series.index.equals(weights.index))  # Should be True\n",
    "print(hhi_series.columns.equals(weights.columns))  # Should be True\n"
   ]
  },
  {
   "cell_type": "code",
   "execution_count": 57,
   "metadata": {},
   "outputs": [],
   "source": [
    "df = pd.concat([returns, vw_hhi, etf_share], axis=1).dropna()\n",
    "df.columns = ['returns', 'vw_hhi', 'etf_share']"
   ]
  },
  {
   "cell_type": "code",
   "execution_count": 56,
   "metadata": {},
   "outputs": [
    {
     "data": {
      "text/plain": [
       "<Axes: title={'center': 'Rolling Correlation (5 years)'}>"
      ]
     },
     "execution_count": 56,
     "metadata": {},
     "output_type": "execute_result"
    },
    {
     "data": {
      "image/png": "[encoded data removed]",
      "text/plain": [
       "<Figure size 1000x500 with 1 Axes>"
      ]
     },
     "metadata": {},
     "output_type": "display_data"
    }
   ],
   "source": [
    "df['corr_vs_hhi'] = df['returns'].rolling(60).corr(df['vw_hhi'])\n",
    "df['corr_vs_etf'] = df['returns'].rolling(60).corr(df['etf_share'])\n",
    "\n",
    "df[['corr_vs_hhi', 'corr_vs_etf']].plot(title='Rolling Correlation (5 years)', figsize=(10,5))\n"
   ]
  },
  {
   "cell_type": "code",
   "execution_count": 62,
   "metadata": {},
   "outputs": [
    {
     "name": "stdout",
     "output_type": "stream",
     "text": [
      "                            OLS Regression Results                            \n",
      "==============================================================================\n",
      "Dep. Variable:                returns   R-squared:                       0.010\n",
      "Model:                            OLS   Adj. R-squared:                  0.004\n",
      "Method:                 Least Squares   F-statistic:                     1.600\n",
      "Date:                Wed, 18 Jun 2025   Prob (F-statistic):              0.204\n",
      "Time:                        17:43:10   Log-Likelihood:                 650.29\n",
      "No. Observations:                 306   AIC:                            -1295.\n",
      "Df Residuals:                     303   BIC:                            -1283.\n",
      "Df Model:                           2                                         \n",
      "Covariance Type:            nonrobust                                         \n",
      "==============================================================================\n",
      "                 coef    std err          t      P>|t|      [0.025      0.975]\n",
      "------------------------------------------------------------------------------\n",
      "const          0.0061      0.008      0.744      0.458      -0.010       0.022\n",
      "vw_hhi         0.0965      0.216      0.446      0.656      -0.329       0.522\n",
      "etf_share     -0.0116      0.007     -1.712      0.088      -0.025       0.002\n",
      "==============================================================================\n",
      "Omnibus:                       24.474   Durbin-Watson:                   1.729\n",
      "Prob(Omnibus):                  0.000   Jarque-Bera (JB):               91.058\n",
      "Skew:                           0.114   Prob(JB):                     1.69e-20\n",
      "Kurtosis:                       5.663   Cond. No.                         150.\n",
      "==============================================================================\n",
      "\n",
      "Notes:\n",
      "[1] Standard Errors assume that the covariance matrix of the errors is correctly specified.\n"
     ]
    }
   ],
   "source": [
    "import statsmodels.api as sm\n",
    "\n",
    "X = df[['vw_hhi', 'etf_share']]\n",
    "X = sm.add_constant(X)\n",
    "y = df['returns']\n",
    "\n",
    "model = sm.OLS(y, X).fit()\n",
    "print(model.summary())\n"
   ]
  },
  {
   "cell_type": "code",
   "execution_count": 63,
   "metadata": {},
   "outputs": [
    {
     "name": "stdout",
     "output_type": "stream",
     "text": [
      "                            OLS Regression Results                            \n",
      "==============================================================================\n",
      "Dep. Variable:                returns   R-squared:                       0.011\n",
      "Model:                            OLS   Adj. R-squared:                 -0.006\n",
      "Method:                 Least Squares   F-statistic:                    0.6536\n",
      "Date:                Wed, 18 Jun 2025   Prob (F-statistic):              0.659\n",
      "Time:                        17:43:59   Log-Likelihood:                 650.34\n",
      "No. Observations:                 306   AIC:                            -1289.\n",
      "Df Residuals:                     300   BIC:                            -1266.\n",
      "Df Model:                           5                                         \n",
      "Covariance Type:            nonrobust                                         \n",
      "==============================================================================\n",
      "                 coef    std err          t      P>|t|      [0.025      0.975]\n",
      "------------------------------------------------------------------------------\n",
      "const          0.0056      0.010      0.590      0.556      -0.013       0.024\n",
      "vw_hhi         0.1065      0.258      0.412      0.681      -0.402       0.615\n",
      "etf_share     -0.0110      0.009     -1.227      0.221      -0.029       0.007\n",
      "post2008      -0.0174      0.070     -0.248      0.805      -0.156       0.121\n",
      "hhi_post       0.0333      0.533      0.063      0.950      -1.015       1.081\n",
      "etf_post       0.0189      0.072      0.261      0.794      -0.123       0.161\n",
      "==============================================================================\n",
      "Omnibus:                       24.403   Durbin-Watson:                   1.726\n",
      "Prob(Omnibus):                  0.000   Jarque-Bera (JB):               91.620\n",
      "Skew:                           0.100   Prob(JB):                     1.27e-20\n",
      "Kurtosis:                       5.673   Cond. No.                         432.\n",
      "==============================================================================\n",
      "\n",
      "Notes:\n",
      "[1] Standard Errors assume that the covariance matrix of the errors is correctly specified.\n"
     ]
    }
   ],
   "source": [
    "df['post2008'] = (df.index >= '2008-09-01').astype(int)\n",
    "\n",
    "# Interaction terms\n",
    "df['hhi_post'] = df['vw_hhi'] * df['post2008']\n",
    "df['etf_post'] = df['etf_share'] * df['post2008']\n",
    "\n",
    "X = df[['vw_hhi', 'etf_share', 'post2008', 'hhi_post', 'etf_post']]\n",
    "X = sm.add_constant(X)\n",
    "\n",
    "model = sm.OLS(df['returns'], X).fit()\n",
    "print(model.summary())\n"
   ]
  },
  {
   "cell_type": "code",
   "execution_count": 64,
   "metadata": {},
   "outputs": [
    {
     "data": {
      "text/plain": [
       "  Summary of Regression Results   \n",
       "==================================\n",
       "Model:                         VAR\n",
       "Method:                        OLS\n",
       "Date:           Wed, 18, Jun, 2025\n",
       "Time:                     17:44:23\n",
       "--------------------------------------------------------------------\n",
       "No. of Equations:         3.00000    BIC:                   -26.5267\n",
       "Nobs:                     304.000    HQIC:                  -26.6808\n",
       "Log likelihood:           2798.02    FPE:                2.33388e-12\n",
       "AIC:                     -26.7835    Det(Omega_mle):     2.17981e-12\n",
       "--------------------------------------------------------------------\n",
       "Results for equation returns\n",
       "===============================================================================\n",
       "                  coefficient       std. error           t-stat            prob\n",
       "-------------------------------------------------------------------------------\n",
       "const                0.006506         0.008039            0.809           0.418\n",
       "L1.returns           0.201959         0.060806            3.321           0.001\n",
       "L1.vw_hhi           -3.376309         1.064935           -3.170           0.002\n",
       "L1.etf_share        -0.067092         0.047229           -1.421           0.155\n",
       "L2.returns          -0.023011         0.056920           -0.404           0.686\n",
       "L2.vw_hhi            3.475412         1.069115            3.251           0.001\n",
       "L2.etf_share         0.053905         0.047407            1.137           0.256\n",
       "===============================================================================\n",
       "\n",
       "Results for equation vw_hhi\n",
       "===============================================================================\n",
       "                  coefficient       std. error           t-stat            prob\n",
       "-------------------------------------------------------------------------------\n",
       "const                0.000542         0.000452            1.200           0.230\n",
       "L1.returns           0.003983         0.003416            1.166           0.244\n",
       "L1.vw_hhi            0.983707         0.059829           16.442           0.000\n",
       "L1.etf_share         0.001887         0.002653            0.711           0.477\n",
       "L2.returns           0.002002         0.003198            0.626           0.531\n",
       "L2.vw_hhi            0.000487         0.060064            0.008           0.994\n",
       "L2.etf_share        -0.001540         0.002663           -0.578           0.563\n",
       "===============================================================================\n",
       "\n",
       "Results for equation etf_share\n",
       "===============================================================================\n",
       "                  coefficient       std. error           t-stat            prob\n",
       "-------------------------------------------------------------------------------\n",
       "const                0.009797         0.010313            0.950           0.342\n",
       "L1.returns           0.335317         0.078001            4.299           0.000\n",
       "L1.vw_hhi           -1.321392         1.366078           -0.967           0.333\n",
       "L1.etf_share         0.791676         0.060584           13.067           0.000\n",
       "L2.returns          -0.116270         0.073016           -1.592           0.111\n",
       "L2.vw_hhi            1.246928         1.371440            0.909           0.363\n",
       "L2.etf_share         0.199995         0.060812            3.289           0.001\n",
       "===============================================================================\n",
       "\n",
       "Correlation matrix of residuals\n",
       "              returns    vw_hhi  etf_share\n",
       "returns      1.000000  0.207936   0.320432\n",
       "vw_hhi       0.207936  1.000000   0.226031\n",
       "etf_share    0.320432  0.226031   1.000000\n",
       "\n"
      ]
     },
     "execution_count": 64,
     "metadata": {},
     "output_type": "execute_result"
    }
   ],
   "source": [
    "from statsmodels.tsa.api import VAR\n",
    "\n",
    "var_df = df[['returns', 'vw_hhi', 'etf_share']]\n",
    "var_model = VAR(var_df).fit(maxlags=4, ic='aic')\n",
    "var_model.summary()\n"
   ]
  }
 ],
 "metadata": {
  "kernelspec": {
   "display_name": "Python (myenv)",
   "language": "python",
   "name": "myenv"
  },
  "language_info": {
   "codemirror_mode": {
    "name": "ipython",
    "version": 3
   },
   "file_extension": ".py",
   "mimetype": "text/x-python",
   "name": "python",
   "nbconvert_exporter": "python",
   "pygments_lexer": "ipython3",
   "version": "3.10.13"
  },
  "orig_nbformat": 4
 },
 "nbformat": 4,
 "nbformat_minor": 2
}
